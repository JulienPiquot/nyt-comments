{
 "cells": [
  {
   "cell_type": "markdown",
   "metadata": {},
   "source": [
    "# UASB03 - NY Times Comments"
   ]
  },
  {
   "cell_type": "markdown",
   "metadata": {},
   "source": [
    "## Description des données"
   ]
  },
  {
   "cell_type": "markdown",
   "metadata": {},
   "source": [
    "### Articles\n",
    "Nous chargeons tout d'abord les articles rédigés dans le New York Times entre janvier et mai 2017.\n",
    "\n",
    "#### Descriptions des variables"
   ]
  },
  {
   "cell_type": "code",
   "execution_count": 1,
   "metadata": {},
   "outputs": [],
   "source": [
    "import pandas as pd\n",
    "import matplotlib.pyplot as plt\n",
    "import glob\n",
    "\n",
    "data_dir = 'C:\\\\Users\\\\julien.piquot\\\\workspace\\\\nyt-comments\\\\data\\\\'\n",
    "dateparse = lambda x: pd.datetime.strptime(x, '%Y-%m-%d %H:%M:%S')\n",
    "\n",
    "def read_all_csv(pattern):\n",
    "    allFiles = glob.glob(data_dir + pattern)\n",
    "    frame = pd.DataFrame()\n",
    "    list_ = []\n",
    "    for file_ in allFiles:\n",
    "        df = pd.read_csv(file_,index_col=None, header=0, parse_dates=['pubDate'], date_parser=dateparse)\n",
    "        list_.append(df)\n",
    "    frame = pd.concat(list_, sort=True)\n",
    "    return frame"
   ]
  },
  {
   "cell_type": "code",
   "execution_count": 2,
   "metadata": {
    "scrolled": true
   },
   "outputs": [
    {
     "data": {
      "text/html": [
       "<div>\n",
       "<style scoped>\n",
       "    .dataframe tbody tr th:only-of-type {\n",
       "        vertical-align: middle;\n",
       "    }\n",
       "\n",
       "    .dataframe tbody tr th {\n",
       "        vertical-align: top;\n",
       "    }\n",
       "\n",
       "    .dataframe thead th {\n",
       "        text-align: right;\n",
       "    }\n",
       "</style>\n",
       "<table border=\"1\" class=\"dataframe\">\n",
       "  <thead>\n",
       "    <tr style=\"text-align: right;\">\n",
       "      <th></th>\n",
       "      <th>abstract</th>\n",
       "      <th>articleID</th>\n",
       "      <th>articleWordCount</th>\n",
       "      <th>byline</th>\n",
       "      <th>documentType</th>\n",
       "      <th>headline</th>\n",
       "      <th>keywords</th>\n",
       "      <th>multimedia</th>\n",
       "      <th>newDesk</th>\n",
       "      <th>printPage</th>\n",
       "      <th>pubDate</th>\n",
       "      <th>sectionName</th>\n",
       "      <th>snippet</th>\n",
       "      <th>source</th>\n",
       "      <th>typeOfMaterial</th>\n",
       "      <th>webURL</th>\n",
       "    </tr>\n",
       "  </thead>\n",
       "  <tbody>\n",
       "    <tr>\n",
       "      <th>288</th>\n",
       "      <td>NaN</td>\n",
       "      <td>58ed0c267c459f24986d9a37</td>\n",
       "      <td>1180</td>\n",
       "      <td>By PETE WELLS</td>\n",
       "      <td>article</td>\n",
       "      <td>Where a Chicken’s Parts Are Greater Than the Sum</td>\n",
       "      <td>['Restaurants', 'Torishin (Manhattan, NY, Rest...</td>\n",
       "      <td>3</td>\n",
       "      <td>Dining</td>\n",
       "      <td>5</td>\n",
       "      <td>2017-04-11 17:02:23</td>\n",
       "      <td>Unknown</td>\n",
       "      <td>At a yakitori restaurant in Hell’s Kitchen, ea...</td>\n",
       "      <td>The New York Times</td>\n",
       "      <td>Review</td>\n",
       "      <td>https://www.nytimes.com/2017/04/11/dining/tori...</td>\n",
       "    </tr>\n",
       "    <tr>\n",
       "      <th>472</th>\n",
       "      <td>NaN</td>\n",
       "      <td>58a6d87495d0e024746371b7</td>\n",
       "      <td>1214</td>\n",
       "      <td>By ALEXANDRA S. LEVINE and AMY ZERBA</td>\n",
       "      <td>article</td>\n",
       "      <td>Unknown</td>\n",
       "      <td>['New York City']</td>\n",
       "      <td>1</td>\n",
       "      <td>Metro</td>\n",
       "      <td>0</td>\n",
       "      <td>2017-02-17 11:03:09</td>\n",
       "      <td>Unknown</td>\n",
       "      <td>Friday: How children can celebrate the holiday...</td>\n",
       "      <td>The New York Times</td>\n",
       "      <td>briefing</td>\n",
       "      <td>https://www.nytimes.com/2017/02/17/nyregion/ne...</td>\n",
       "    </tr>\n",
       "  </tbody>\n",
       "</table>\n",
       "</div>"
      ],
      "text/plain": [
       "    abstract                 articleID  articleWordCount  \\\n",
       "288      NaN  58ed0c267c459f24986d9a37              1180   \n",
       "472      NaN  58a6d87495d0e024746371b7              1214   \n",
       "\n",
       "                                   byline documentType  \\\n",
       "288                         By PETE WELLS      article   \n",
       "472  By ALEXANDRA S. LEVINE and AMY ZERBA      article   \n",
       "\n",
       "                                             headline  \\\n",
       "288  Where a Chicken’s Parts Are Greater Than the Sum   \n",
       "472                                           Unknown   \n",
       "\n",
       "                                              keywords  multimedia newDesk  \\\n",
       "288  ['Restaurants', 'Torishin (Manhattan, NY, Rest...           3  Dining   \n",
       "472                                  ['New York City']           1   Metro   \n",
       "\n",
       "     printPage             pubDate sectionName  \\\n",
       "288          5 2017-04-11 17:02:23     Unknown   \n",
       "472          0 2017-02-17 11:03:09     Unknown   \n",
       "\n",
       "                                               snippet              source  \\\n",
       "288  At a yakitori restaurant in Hell’s Kitchen, ea...  The New York Times   \n",
       "472  Friday: How children can celebrate the holiday...  The New York Times   \n",
       "\n",
       "    typeOfMaterial                                             webURL  \n",
       "288         Review  https://www.nytimes.com/2017/04/11/dining/tori...  \n",
       "472       briefing  https://www.nytimes.com/2017/02/17/nyregion/ne...  "
      ]
     },
     "execution_count": 2,
     "metadata": {},
     "output_type": "execute_result"
    }
   ],
   "source": [
    "\n",
    "articles = read_all_csv('Articles*2017.csv')\n",
    "articles.sample(2)\n"
   ]
  },
  {
   "cell_type": "code",
   "execution_count": 3,
   "metadata": {},
   "outputs": [
    {
     "data": {
      "text/plain": [
       "(4566, 16)"
      ]
     },
     "execution_count": 3,
     "metadata": {},
     "output_type": "execute_result"
    }
   ],
   "source": [
    "articles.shape"
   ]
  },
  {
   "cell_type": "code",
   "execution_count": 4,
   "metadata": {},
   "outputs": [
    {
     "data": {
      "text/html": [
       "<div>\n",
       "<style scoped>\n",
       "    .dataframe tbody tr th:only-of-type {\n",
       "        vertical-align: middle;\n",
       "    }\n",
       "\n",
       "    .dataframe tbody tr th {\n",
       "        vertical-align: top;\n",
       "    }\n",
       "\n",
       "    .dataframe thead th {\n",
       "        text-align: right;\n",
       "    }\n",
       "</style>\n",
       "<table border=\"1\" class=\"dataframe\">\n",
       "  <thead>\n",
       "    <tr style=\"text-align: right;\">\n",
       "      <th></th>\n",
       "      <th>count</th>\n",
       "      <th>unique</th>\n",
       "      <th>top</th>\n",
       "      <th>freq</th>\n",
       "    </tr>\n",
       "  </thead>\n",
       "  <tbody>\n",
       "    <tr>\n",
       "      <th>abstract</th>\n",
       "      <td>156</td>\n",
       "      <td>151</td>\n",
       "      <td>Photos by The New York Times and by photograph...</td>\n",
       "      <td>4</td>\n",
       "    </tr>\n",
       "    <tr>\n",
       "      <th>articleID</th>\n",
       "      <td>4566</td>\n",
       "      <td>4548</td>\n",
       "      <td>5906e1f17c459f24986dd044</td>\n",
       "      <td>2</td>\n",
       "    </tr>\n",
       "    <tr>\n",
       "      <th>byline</th>\n",
       "      <td>4566</td>\n",
       "      <td>1520</td>\n",
       "      <td>By DEB AMLEN</td>\n",
       "      <td>160</td>\n",
       "    </tr>\n",
       "    <tr>\n",
       "      <th>documentType</th>\n",
       "      <td>4566</td>\n",
       "      <td>2</td>\n",
       "      <td>article</td>\n",
       "      <td>4410</td>\n",
       "    </tr>\n",
       "    <tr>\n",
       "      <th>headline</th>\n",
       "      <td>4566</td>\n",
       "      <td>4084</td>\n",
       "      <td>Unknown</td>\n",
       "      <td>314</td>\n",
       "    </tr>\n",
       "    <tr>\n",
       "      <th>keywords</th>\n",
       "      <td>4566</td>\n",
       "      <td>3752</td>\n",
       "      <td>[]</td>\n",
       "      <td>295</td>\n",
       "    </tr>\n",
       "    <tr>\n",
       "      <th>newDesk</th>\n",
       "      <td>4566</td>\n",
       "      <td>35</td>\n",
       "      <td>OpEd</td>\n",
       "      <td>942</td>\n",
       "    </tr>\n",
       "    <tr>\n",
       "      <th>sectionName</th>\n",
       "      <td>4566</td>\n",
       "      <td>47</td>\n",
       "      <td>Unknown</td>\n",
       "      <td>3209</td>\n",
       "    </tr>\n",
       "    <tr>\n",
       "      <th>snippet</th>\n",
       "      <td>4566</td>\n",
       "      <td>4379</td>\n",
       "      <td>Look closely at this image, stripped of its ca...</td>\n",
       "      <td>18</td>\n",
       "    </tr>\n",
       "    <tr>\n",
       "      <th>source</th>\n",
       "      <td>4566</td>\n",
       "      <td>2</td>\n",
       "      <td>The New York Times</td>\n",
       "      <td>4537</td>\n",
       "    </tr>\n",
       "    <tr>\n",
       "      <th>typeOfMaterial</th>\n",
       "      <td>4566</td>\n",
       "      <td>11</td>\n",
       "      <td>News</td>\n",
       "      <td>2811</td>\n",
       "    </tr>\n",
       "    <tr>\n",
       "      <th>webURL</th>\n",
       "      <td>4566</td>\n",
       "      <td>4416</td>\n",
       "      <td>https://www.nytimes.com/2017/03/02/magazine/ho...</td>\n",
       "      <td>2</td>\n",
       "    </tr>\n",
       "  </tbody>\n",
       "</table>\n",
       "</div>"
      ],
      "text/plain": [
       "               count unique  \\\n",
       "abstract         156    151   \n",
       "articleID       4566   4548   \n",
       "byline          4566   1520   \n",
       "documentType    4566      2   \n",
       "headline        4566   4084   \n",
       "keywords        4566   3752   \n",
       "newDesk         4566     35   \n",
       "sectionName     4566     47   \n",
       "snippet         4566   4379   \n",
       "source          4566      2   \n",
       "typeOfMaterial  4566     11   \n",
       "webURL          4566   4416   \n",
       "\n",
       "                                                              top  freq  \n",
       "abstract        Photos by The New York Times and by photograph...     4  \n",
       "articleID                                5906e1f17c459f24986dd044     2  \n",
       "byline                                               By DEB AMLEN   160  \n",
       "documentType                                              article  4410  \n",
       "headline                                                  Unknown   314  \n",
       "keywords                                                       []   295  \n",
       "newDesk                                                      OpEd   942  \n",
       "sectionName                                               Unknown  3209  \n",
       "snippet         Look closely at this image, stripped of its ca...    18  \n",
       "source                                         The New York Times  4537  \n",
       "typeOfMaterial                                               News  2811  \n",
       "webURL          https://www.nytimes.com/2017/03/02/magazine/ho...     2  "
      ]
     },
     "execution_count": 4,
     "metadata": {},
     "output_type": "execute_result"
    }
   ],
   "source": [
    "articles.describe(include = ['O']).transpose()"
   ]
  },
  {
   "cell_type": "code",
   "execution_count": 5,
   "metadata": {},
   "outputs": [
    {
     "data": {
      "text/html": [
       "<div>\n",
       "<style scoped>\n",
       "    .dataframe tbody tr th:only-of-type {\n",
       "        vertical-align: middle;\n",
       "    }\n",
       "\n",
       "    .dataframe tbody tr th {\n",
       "        vertical-align: top;\n",
       "    }\n",
       "\n",
       "    .dataframe thead th {\n",
       "        text-align: right;\n",
       "    }\n",
       "</style>\n",
       "<table border=\"1\" class=\"dataframe\">\n",
       "  <thead>\n",
       "    <tr style=\"text-align: right;\">\n",
       "      <th></th>\n",
       "      <th>count</th>\n",
       "      <th>mean</th>\n",
       "      <th>std</th>\n",
       "      <th>min</th>\n",
       "      <th>25%</th>\n",
       "      <th>50%</th>\n",
       "      <th>75%</th>\n",
       "      <th>max</th>\n",
       "    </tr>\n",
       "  </thead>\n",
       "  <tbody>\n",
       "    <tr>\n",
       "      <th>articleWordCount</th>\n",
       "      <td>4566.0</td>\n",
       "      <td>1056.813403</td>\n",
       "      <td>817.325807</td>\n",
       "      <td>11.0</td>\n",
       "      <td>663.0</td>\n",
       "      <td>933.5</td>\n",
       "      <td>1264.0</td>\n",
       "      <td>12049.0</td>\n",
       "    </tr>\n",
       "    <tr>\n",
       "      <th>multimedia</th>\n",
       "      <td>4566.0</td>\n",
       "      <td>2.942838</td>\n",
       "      <td>7.316654</td>\n",
       "      <td>0.0</td>\n",
       "      <td>1.0</td>\n",
       "      <td>3.0</td>\n",
       "      <td>3.0</td>\n",
       "      <td>68.0</td>\n",
       "    </tr>\n",
       "    <tr>\n",
       "      <th>printPage</th>\n",
       "      <td>4566.0</td>\n",
       "      <td>7.440429</td>\n",
       "      <td>10.874987</td>\n",
       "      <td>0.0</td>\n",
       "      <td>0.0</td>\n",
       "      <td>1.0</td>\n",
       "      <td>12.0</td>\n",
       "      <td>94.0</td>\n",
       "    </tr>\n",
       "  </tbody>\n",
       "</table>\n",
       "</div>"
      ],
      "text/plain": [
       "                   count         mean         std   min    25%    50%     75%  \\\n",
       "articleWordCount  4566.0  1056.813403  817.325807  11.0  663.0  933.5  1264.0   \n",
       "multimedia        4566.0     2.942838    7.316654   0.0    1.0    3.0     3.0   \n",
       "printPage         4566.0     7.440429   10.874987   0.0    0.0    1.0    12.0   \n",
       "\n",
       "                      max  \n",
       "articleWordCount  12049.0  \n",
       "multimedia           68.0  \n",
       "printPage            94.0  "
      ]
     },
     "execution_count": 5,
     "metadata": {},
     "output_type": "execute_result"
    }
   ],
   "source": [
    "articles.describe().transpose()"
   ]
  },
  {
   "cell_type": "markdown",
   "metadata": {},
   "source": [
    "Le tableau de données formé par les données provenant des articles contient 4566 individus et 16 variables. Certaines de ces variables sont des informations techniques qui présentent peu d'intérêt pour une étude. Les variables que nous jugeons \"intéressantes\" sont donc les suivantes :\n",
    "\n",
    "Variables qualitatives nominales :\n",
    "* documentType : 'article' ou 'blogpost'\n",
    "* newDesk : la rubrique dans laquelle l'article a été publié (Sports, Culture, Editorial, etc.)\n",
    "* sectionName : la section dans laquelle l'article a été publié (Tennis, Hockey, Media, Politics, Canada, etc.)\n",
    "* source : 'The New York Times', 'International New York Times'\n",
    "* typeOfMaterial : la nature de l'article (News, Blog, Editorial, Question, etc.)\n",
    "\n",
    "Variables qualitatives ordinales :\n",
    "* pubDate : la date de publication de l'article\n",
    "* printPage : la page ou l'article a été imprimé\n",
    "\n",
    "Variables quantitatives :\n",
    "* articleWordCount : le nombre de terme de l'article complet\n",
    "\n",
    "Autre type de variables (texte, JSON, liste)\n",
    "* byline : autheur(s) de l'article\n",
    "* headline : le titre de l'article\n",
    "* keywords : la liste de mots clés associés à l'article au format JSON\n",
    "* snippet : un court apperçu de l'article"
   ]
  },
  {
   "cell_type": "markdown",
   "metadata": {},
   "source": [
    "##### Etude de la taille des articles"
   ]
  },
  {
   "cell_type": "code",
   "execution_count": 6,
   "metadata": {},
   "outputs": [
    {
     "data": {
      "image/png": "[encoded data removed]",
      "text/plain": [
       "<Figure size 432x288 with 1 Axes>"
      ]
     },
     "metadata": {},
     "output_type": "display_data"
    }
   ],
   "source": [
    "axes = articles.boxplot(column='articleWordCount')\n",
    "plt.show()"
   ]
  },
  {
   "cell_type": "markdown",
   "metadata": {},
   "source": [
    "La taille moyenne d'un article est d'environ 1057 mots tandis que la médianne se situe a environ 934 termes, nous constatons qu'au delà de 2000 termes, il existe un certain nombre d'article long mais qu'ils constituent une exception."
   ]
  },
  {
   "cell_type": "markdown",
   "metadata": {},
   "source": [
    "##### Etude de la numérotation des articles"
   ]
  },
  {
   "cell_type": "code",
   "execution_count": 7,
   "metadata": {},
   "outputs": [
    {
     "data": {
      "image/png": "[encoded data removed]",
      "text/plain": [
       "<Figure size 432x288 with 1 Axes>"
      ]
     },
     "metadata": {},
     "output_type": "display_data"
    }
   ],
   "source": [
    "axes = articles.printPage.hist(bins=20)\n",
    "plt.title('Distribution de la numération de page')\n",
    "plt.ylabel(\"Nombre d'articles\")\n",
    "plt.xlabel(\"Numéro de la page\")\n",
    "plt.show()"
   ]
  },
  {
   "cell_type": "markdown",
   "metadata": {},
   "source": [
    "Nous constatons que la majorité des articles que nous traitons apparaissent en première page du New York Times. Cela peut reveler un biais lors de la selection des articles dans le jeu de données car les premiers articles génère probablement plus de commentaires et sont donc un sujet d'étude plus intéressant."
   ]
  },
  {
   "cell_type": "markdown",
   "metadata": {},
   "source": [
    "##### Etude du rubricage des articles"
   ]
  },
  {
   "cell_type": "markdown",
   "metadata": {},
   "source": [
    "##### Etude des aperçus d'articles\n",
    "\n",
    "La difficulté ici consiste a traiter une colonne dont les valeurs correspondent à du texte. La construction de colonnes artificelles pour chaque terme du vocabulaire est malaisé car ce dernier est de grande taille et la tableau ainsi obtenu est très creux. L'analyse sémantique latente permet de résoudre ce problème en regroupant conjointement les articles possédant les même termes et les termes se trouvant dans les même articles.\n",
    "\n",
    "Afin d'appliquer l'analyse sémantique latente"
   ]
  },
  {
   "cell_type": "code",
   "execution_count": 17,
   "metadata": {},
   "outputs": [
    {
     "name": "stdout",
     "output_type": "stream",
     "text": [
      "['one', 'largest', 'photo', 'display', 'time', 'histori', 'peopl', 'fled', 'boko', 'haram', 'requir', 'effort', 'immens']\n"
     ]
    }
   ],
   "source": [
    "from nltk.tokenize import RegexpTokenizer\n",
    "from nltk.corpus import stopwords\n",
    "from nltk.stem.porter import PorterStemmer\n",
    "\n",
    "def preprocess_text(texts):\n",
    "    tokenizer = RegexpTokenizer(r'\\w+')\n",
    "    en_stop = set(stopwords.words('english'))\n",
    "    p_stemmer = PorterStemmer()\n",
    "    preprocessed_texts = []\n",
    "    for text in texts:\n",
    "        tokens = tokenizer.tokenize(text)\n",
    "        tokens = [token for token in tokens if token not in en_stop]\n",
    "        tokens = [p_stemmer.stem(token) for token in tokens]\n",
    "        preprocessed_texts.append(tokens)\n",
    "    return preprocessed_texts\n",
    "\n",
    "def prepare_corpus\n",
    "\n",
    "preprocessed_texts = preprocess_text(articles.snippet)\n",
    "print(preprocessed_texts[0])\n"
   ]
  },
  {
   "cell_type": "code",
   "execution_count": 11,
   "metadata": {},
   "outputs": [
    {
     "name": "stdout",
     "output_type": "stream",
     "text": [
      "One of the largest photo displays in Times history, of people who have fled Boko Haram, required an effort just as immense. 120$\n",
      "['One', 'of', 'the', 'largest', 'photo', 'displays', 'in', 'Times', 'history', 'of', 'people', 'who', 'have', 'fled', 'Boko', 'Haram', 'required', 'an', 'effort', 'just', 'as', 'immense', '120']\n",
      "['one', 'largest', 'photo', 'displays', 'times', 'history', 'people', 'fled', 'boko', 'haram', 'required', 'effort', 'immense', '120']\n"
     ]
    }
   ],
   "source": [
    "sentence = sentence + ' 120$'\n",
    "print(sentence)\n",
    "tokens = tokenizer.tokenize(sentence)\n",
    "print(tokens)\n",
    "tokens = [token.lower() for token in tokens]\n",
    "tokens = [token for token in tokens if token not in stopwords.words('english')]\n",
    "print(tokens)"
   ]
  },
  {
   "cell_type": "code",
   "execution_count": null,
   "metadata": {},
   "outputs": [],
   "source": []
  }
 ],
 "metadata": {
  "kernelspec": {
   "display_name": "Python 3",
   "language": "python",
   "name": "python3"
  },
  "language_info": {
   "codemirror_mode": {
    "name": "ipython",
    "version": 3
   },
   "file_extension": ".py",
   "mimetype": "text/x-python",
   "name": "python",
   "nbconvert_exporter": "python",
   "pygments_lexer": "ipython3",
   "version": "3.6.5"
  }
 },
 "nbformat": 4,
 "nbformat_minor": 2
}
